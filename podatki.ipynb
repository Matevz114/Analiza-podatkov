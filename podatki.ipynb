{
  "metadata": {
    "language_info": {
      "codemirror_mode": {
        "name": "python",
        "version": 3
      },
      "file_extension": ".py",
      "mimetype": "text/x-python",
      "name": "python",
      "nbconvert_exporter": "python",
      "pygments_lexer": "ipython3",
      "version": "3.8"
    },
    "kernelspec": {
      "name": "python",
      "display_name": "Python (Pyodide)",
      "language": "python"
    }
  },
  "nbformat_minor": 4,
  "nbformat": 4,
  "cells": [
    {
      "cell_type": "markdown",
      "source": "LoL lestvica\n=========================================\n\nAnaliziral bom najboljših 3000 igralcev videogrice League of Legends na vzhodnoevropskem serverju glede na Soloqueue.\nPodatke bom poiskal na strani https://www.leagueofgraphs.com/rankings/summoners/eune\n\nZa vsakega igralca bom pogledal:\n - ime igralca\n - uvrstitev na lestvici, in njegove točke (po teh smo tudi igralci razvrščeni) ter točkam pripadajoč rang\n - število zmag in splošen winrate\n - rang, število zmag in winrate v Flexqueue.\n\nS podatki se bom spraševal:\n - ali je (bolj) pomembna povezava med številom iger in doseženimi točkami\n   oziroma ali je bolj pomembna povezava med winrate-om in točkami\n - ali obstaja povezava med uspešnostjo v Soloqueue-ju in Flexqueue-ju\n   oziroma ali je igralcem sploh do tega da igrajo oba queue-ja\n   \n \n \n\n\nKaj sploh je League of Legends (LoL) in kako sistem razvrsti igralce?\n\nLoL je videoigra, igrana 5 na 5. Za potrebe te naloge so pomembni naslednji podatki:\n1. Igralci se merijo v dveh različnih kategorijah - v Soloqueueju in FlexQueueju. Kot že imeni predlagata\nprvega igraš sam (torej dobiš še štiri druge igralce, ki igrajo sami v ekipo in igraš proti petim drugim, ki so ravno tako vsak sam),\nv drugem pa lahko igraš sam, v dvoje, troje, ali kot 5 na 5, po celih ekipah skupaj.\n\n*Neuradno je Soloqueue veliko bolj reprezentativna kategorija sposobnosti nekega igralca, zato bom tudi po tej kategoriji\nrazvrščal igralce.*\n\n2. Sistem rangiranja igralce razvrsti v kategorije Iron, Bronze, Silver, Gold, Platinum, Diamond, Master, Grandmaster, Challenger.\nVsak od teh rankov je potem razdeljen še na divizije od 1-4, kjer je 1 boljše od 4 (torej Gold 1 je boljše od Gold 3).\nV nalogi bom gledal le igralce v najvišjih rankih, torej od Master do Challenger.\n\n3. Na odigrano igro vsak igralec v zmagovalni ekipi dobi približno 20 točk, vsak izmed poražencev pa jih toliko zgubi. \n\n *Master, Grandmaster in Challenger so v bistvu ena sama velika kategorija, kjer igralci tekmujejo neposredno en z drugim;\n od tega je prvih 200 po točkah v Challengerju, naslednjih 500 v Grandmasterju, ostali pa so v Masterju.*\n \n *V nižjih rankih (od Irona do Diamonda) pa za vsako naslednjo divizjo potrebuješ 100 točk in si avtomatsko naprej (torej da \n prideš iz Gold 2 v Gold 1 potrebuješ 100 točk in potem si v Gold 1 na 0 točk, iz Platinum 1 ravno tako potrebuješ 100 točk in \n potem si Diamond 4 na 0 točk...).*",
      "metadata": {}
    },
    {
      "cell_type": "markdown",
      "source": "Uvoz podatkov\n===================\nZačnimo z uvozom podatkov.\n",
      "metadata": {}
    },
    {
      "cell_type": "code",
      "source": "\nimport pandas\nimport matplotlib.pyplot as plt\nimport os.path\n\npandas.options.display.max_rows = 20\n\nsummoners = pandas.read_csv('tabelica.csv')\nsummoners[\"games\"] = (summoners[\"wins\"] * (100/summoners[\"winrate\"])).round().astype(\"int32\")\n\n\nsummoners\n",
      "metadata": {
        "trusted": true
      },
      "execution_count": 24,
      "outputs": [
        {
          "execution_count": 24,
          "output_type": "execute_result",
          "data": {
            "text/plain": "              summoner        rank    lp  wins  winrate    rankFlex  winsFlex  \\\n0            PolskiKoz  Challenger  1769   352     58.1      Master      95.0   \n1        WindbreakerXD  Challenger  1688   290     58.4     Diamond     120.0   \n2          hi im Nekro  Challenger  1524   256     60.0         NaN       NaN   \n3                Litny  Challenger  1520   262     57.2         NaN       NaN   \n4            berryrasp  Challenger  1498   491     53.8  Challenger     310.0   \n...                ...         ...   ...   ...      ...         ...       ...   \n2995  Dobbry las tf tf      Master     1   205     55.3     Diamond     144.0   \n2996            Macjei      Master     1   204     53.3      Master     135.0   \n2997       Cortana Bot      Master     1   204     57.3    Platinum      31.0   \n2998         Unicornik      Master     1   203     52.1     Diamond     105.0   \n2999     MocskosAMedve      Master     1   203     58.2    Platinum      43.0   \n\n      winrateFlex  games  \n0            63.3    606  \n1            67.4    497  \n2             NaN    427  \n3             NaN    458  \n4            62.6    913  \n...           ...    ...  \n2995         52.4    371  \n2996         53.8    383  \n2997         53.4    356  \n2998         50.7    390  \n2999         56.6    349  \n\n[3000 rows x 9 columns]",
            "text/html": "<div>\n<style scoped>\n    .dataframe tbody tr th:only-of-type {\n        vertical-align: middle;\n    }\n\n    .dataframe tbody tr th {\n        vertical-align: top;\n    }\n\n    .dataframe thead th {\n        text-align: right;\n    }\n</style>\n<table border=\"1\" class=\"dataframe\">\n  <thead>\n    <tr style=\"text-align: right;\">\n      <th></th>\n      <th>summoner</th>\n      <th>rank</th>\n      <th>lp</th>\n      <th>wins</th>\n      <th>winrate</th>\n      <th>rankFlex</th>\n      <th>winsFlex</th>\n      <th>winrateFlex</th>\n      <th>games</th>\n    </tr>\n  </thead>\n  <tbody>\n    <tr>\n      <th>0</th>\n      <td>PolskiKoz</td>\n      <td>Challenger</td>\n      <td>1769</td>\n      <td>352</td>\n      <td>58.1</td>\n      <td>Master</td>\n      <td>95.0</td>\n      <td>63.3</td>\n      <td>606</td>\n    </tr>\n    <tr>\n      <th>1</th>\n      <td>WindbreakerXD</td>\n      <td>Challenger</td>\n      <td>1688</td>\n      <td>290</td>\n      <td>58.4</td>\n      <td>Diamond</td>\n      <td>120.0</td>\n      <td>67.4</td>\n      <td>497</td>\n    </tr>\n    <tr>\n      <th>2</th>\n      <td>hi im Nekro</td>\n      <td>Challenger</td>\n      <td>1524</td>\n      <td>256</td>\n      <td>60.0</td>\n      <td>NaN</td>\n      <td>NaN</td>\n      <td>NaN</td>\n      <td>427</td>\n    </tr>\n    <tr>\n      <th>3</th>\n      <td>Litny</td>\n      <td>Challenger</td>\n      <td>1520</td>\n      <td>262</td>\n      <td>57.2</td>\n      <td>NaN</td>\n      <td>NaN</td>\n      <td>NaN</td>\n      <td>458</td>\n    </tr>\n    <tr>\n      <th>4</th>\n      <td>berryrasp</td>\n      <td>Challenger</td>\n      <td>1498</td>\n      <td>491</td>\n      <td>53.8</td>\n      <td>Challenger</td>\n      <td>310.0</td>\n      <td>62.6</td>\n      <td>913</td>\n    </tr>\n    <tr>\n      <th>...</th>\n      <td>...</td>\n      <td>...</td>\n      <td>...</td>\n      <td>...</td>\n      <td>...</td>\n      <td>...</td>\n      <td>...</td>\n      <td>...</td>\n      <td>...</td>\n    </tr>\n    <tr>\n      <th>2995</th>\n      <td>Dobbry las tf tf</td>\n      <td>Master</td>\n      <td>1</td>\n      <td>205</td>\n      <td>55.3</td>\n      <td>Diamond</td>\n      <td>144.0</td>\n      <td>52.4</td>\n      <td>371</td>\n    </tr>\n    <tr>\n      <th>2996</th>\n      <td>Macjei</td>\n      <td>Master</td>\n      <td>1</td>\n      <td>204</td>\n      <td>53.3</td>\n      <td>Master</td>\n      <td>135.0</td>\n      <td>53.8</td>\n      <td>383</td>\n    </tr>\n    <tr>\n      <th>2997</th>\n      <td>Cortana Bot</td>\n      <td>Master</td>\n      <td>1</td>\n      <td>204</td>\n      <td>57.3</td>\n      <td>Platinum</td>\n      <td>31.0</td>\n      <td>53.4</td>\n      <td>356</td>\n    </tr>\n    <tr>\n      <th>2998</th>\n      <td>Unicornik</td>\n      <td>Master</td>\n      <td>1</td>\n      <td>203</td>\n      <td>52.1</td>\n      <td>Diamond</td>\n      <td>105.0</td>\n      <td>50.7</td>\n      <td>390</td>\n    </tr>\n    <tr>\n      <th>2999</th>\n      <td>MocskosAMedve</td>\n      <td>Master</td>\n      <td>1</td>\n      <td>203</td>\n      <td>58.2</td>\n      <td>Platinum</td>\n      <td>43.0</td>\n      <td>56.6</td>\n      <td>349</td>\n    </tr>\n  </tbody>\n</table>\n<p>3000 rows × 9 columns</p>\n</div>"
          },
          "metadata": {}
        }
      ]
    },
    {
      "cell_type": "markdown",
      "source": "V League of Legends (LoL-u) se igralec imenuje \"Summoner\", točke so \"League points\" oziroma lp, za ostale stolpce so pa njihova imena že precej reprezentativna.\nStolpci rank, lp, wins, winrate predstavljajo Soloqueue, \"games\" v zadnjem stolpcu pripadajo prav tako Soloqueue. Končnica -Flex pa je za Flexqueue. ",
      "metadata": {}
    },
    {
      "cell_type": "markdown",
      "source": "Kot omenjeno v Read me-ju je v Challengerju prvih 200 igralcev, naslednjih 500 je v GrandMasterju, ostali so pa v Masterju. Lahko se v to hitro prepričamo.",
      "metadata": {}
    },
    {
      "cell_type": "code",
      "source": "sums_po_ranku.count()[\"summoner\"]",
      "metadata": {
        "trusted": true
      },
      "execution_count": 44,
      "outputs": [
        {
          "execution_count": 44,
          "output_type": "execute_result",
          "data": {
            "text/plain": "rank\nChallenger      200\nGrandMaster     500\nMaster         2300\nName: summoner, dtype: int64"
          },
          "metadata": {}
        }
      ]
    },
    {
      "cell_type": "markdown",
      "source": "Začetna hipoteza pred analizo podatkov je, da je položaj na lestvici, torej lp, bolj odvisen od winrate-a, kot od števila zmag oziroma iger.\nHipoteza prihaja iz izkušenj iz prve roke. Seveda pa sta podatka odvisna drug od drugega. V nekem trenutku je namreč zelo pomembno, koliko iger imaš odigranih; \nnpr. kljub 100% winrate-u z dvajsetimi odigranimi igrami ne moreš imeti zadosti točk, da si v visokem rank-u. V našem primeru analiziramo le igralce z veliko igrami in so potemtakem naši rezultati reprezentativni. ",
      "metadata": {}
    },
    {
      "cell_type": "markdown",
      "source": "Vredno je omeniti še, da v ozadju rankiranja igralcev deluje MMR (matchmaking rating) sistem. V našem primeru je zadosti, če se zavedamo, da bojo zaradi tega faktorja na višja mesta (do višjih točk) lažje prišli že dokazano dobri igralci. To pomeni, če je nek igralec že dlje časa v Challengerju, potem bo sistem poskrbel, da bo tja (nazaj) igralec hitreje prišel, če kdaj izpade.",
      "metadata": {}
    },
    {
      "cell_type": "markdown",
      "source": "Analiza igralcev (Soloqueue)\n===============================",
      "metadata": {}
    },
    {
      "cell_type": "markdown",
      "source": "Začnimo s številom iger.",
      "metadata": {}
    },
    {
      "cell_type": "code",
      "source": "sums_po_ranku.wins.mean()",
      "metadata": {
        "trusted": true
      },
      "execution_count": 46,
      "outputs": [
        {
          "execution_count": 46,
          "output_type": "execute_result",
          "data": {
            "text/plain": "rank\nChallenger     274.315000\nGrandMaster    293.716000\nMaster         286.459565\nName: wins, dtype: float64"
          },
          "metadata": {}
        }
      ]
    },
    {
      "cell_type": "code",
      "source": "sums_po_ranku.wins.median()",
      "metadata": {
        "trusted": true
      },
      "execution_count": 47,
      "outputs": [
        {
          "execution_count": 47,
          "output_type": "execute_result",
          "data": {
            "text/plain": "rank\nChallenger     242.0\nGrandMaster    249.5\nMaster         246.5\nName: wins, dtype: float64"
          },
          "metadata": {}
        }
      ]
    },
    {
      "cell_type": "markdown",
      "source": "Povprečno število iger in mediana nam pokažeta, da je za visok rank potrebno nekaj manj kot 300 iger. Vidimo, da summonerji v Challengerju odigrajo poveprečno manj iger kot njihovi nasprotniki v nižjih rank-ih. Sklepamo, da je temu tako, zaradi dveh faktorjev: MMR sistem poskrbi, da ti igralci hitro dosežejo vrh, po drugi strani pa lahko sumimo, da imajo zelo visok winrate.",
      "metadata": {}
    },
    {
      "cell_type": "code",
      "source": "sums_po_ranku = summoners.groupby(\"rank\")\nsums_po_ranku.winrate.mean()",
      "metadata": {
        "trusted": true
      },
      "execution_count": 48,
      "outputs": [
        {
          "execution_count": 48,
          "output_type": "execute_result",
          "data": {
            "text/plain": "rank\nChallenger     55.600000\nGrandMaster    54.286200\nMaster         53.403435\nName: winrate, dtype: float64"
          },
          "metadata": {}
        }
      ]
    },
    {
      "cell_type": "code",
      "source": "sums_po_ranku.winrate.median()",
      "metadata": {
        "trusted": true
      },
      "execution_count": 49,
      "outputs": [
        {
          "execution_count": 49,
          "output_type": "execute_result",
          "data": {
            "text/plain": "rank\nChallenger     54.8\nGrandMaster    53.3\nMaster         52.7\nName: winrate, dtype: float64"
          },
          "metadata": {}
        }
      ]
    },
    {
      "cell_type": "markdown",
      "source": "Ob upoštevanju, da je povprečen wirate vseh igralcev v celi igrici zelo blizu 50%, lahko sklepamo, da ima tistih nekaj pri vrhu winrate izjemno visok.\nKljub temu pa čisto po pričakovanjih winrate iz višjega proti nižjemu ranku pada. To tudi potrdi naš prejšnji sum, da je za manjše število iger v Challengerju deloma kriv tudi visok winrate.",
      "metadata": {}
    },
    {
      "cell_type": "markdown",
      "source": "Poglejmo sedaj, v kakšni korelaciji s točkami sta winrate in število iger.",
      "metadata": {}
    },
    {
      "cell_type": "code",
      "source": "summoners[\"lp\"].corr(summoners[\"winrate\"])",
      "metadata": {
        "trusted": true
      },
      "execution_count": 50,
      "outputs": [
        {
          "execution_count": 50,
          "output_type": "execute_result",
          "data": {
            "text/plain": "0.2057666323108484"
          },
          "metadata": {}
        }
      ]
    },
    {
      "cell_type": "markdown",
      "source": "Korelacijski koeficient je relativno majhen. To pomeni, da je korelacija šibka, a statistično vseeno signifikantna. Vsepovsod po lestvici so torej ljudje z visokim winrate-om, a jih je v povprečju pri vrhu več. ",
      "metadata": {}
    },
    {
      "cell_type": "code",
      "source": "summoners[\"lp\"].corr(summoners[\"wins\"])",
      "metadata": {
        "trusted": true
      },
      "execution_count": 51,
      "outputs": [
        {
          "execution_count": 51,
          "output_type": "execute_result",
          "data": {
            "text/plain": "-0.016951040667759935"
          },
          "metadata": {}
        }
      ]
    },
    {
      "cell_type": "markdown",
      "source": "Sicer je korelacijski koeficient med številom iger (zmag) in točkami negativen, vendar je izjemno blizu 0, zato sklepamo, da skoraj ni povezave med številom iger in točkami.",
      "metadata": {}
    },
    {
      "cell_type": "markdown",
      "source": "Zdi se nam, da naša hipoteza o večji pomembnosti winrate-a kot pa številom iger drži.",
      "metadata": {}
    },
    {
      "cell_type": "markdown",
      "source": "Zanimivo bi bilo pogledati še, v kaki povezavi sta winrate in število iger po posameznih rankih.",
      "metadata": {}
    },
    {
      "cell_type": "markdown",
      "source": "Analiza po rankih\n---",
      "metadata": {}
    },
    {
      "cell_type": "code",
      "source": "challenger[\"lp\"].corr(challenger[\"winrate\"])",
      "metadata": {
        "trusted": true
      },
      "execution_count": 52,
      "outputs": [
        {
          "execution_count": 52,
          "output_type": "execute_result",
          "data": {
            "text/plain": "0.21310014106563238"
          },
          "metadata": {}
        }
      ]
    },
    {
      "cell_type": "code",
      "source": "gmaster = summoners[summoners[\"rank\"] == \"GrandMaster\"]\ngmaster[\"lp\"].corr(gmaster[\"winrate\"])",
      "metadata": {
        "trusted": true
      },
      "execution_count": 53,
      "outputs": [
        {
          "execution_count": 53,
          "output_type": "execute_result",
          "data": {
            "text/plain": "0.15520628044795445"
          },
          "metadata": {}
        }
      ]
    },
    {
      "cell_type": "code",
      "source": "master = summoners[summoners[\"rank\"] == \"Master\"]\nmaster[\"lp\"].corr(master[\"winrate\"])",
      "metadata": {
        "trusted": true
      },
      "execution_count": 54,
      "outputs": [
        {
          "execution_count": 54,
          "output_type": "execute_result",
          "data": {
            "text/plain": "0.05343529951065668"
          },
          "metadata": {}
        }
      ]
    },
    {
      "cell_type": "markdown",
      "source": "Zanimivo je v Challengerju veliko večja povezava med winrate-om in točkami kot v Masterju. Po premisleku je to tudi logično, saj v Masterju igralci v povprečju odigrajo več iger.",
      "metadata": {}
    },
    {
      "cell_type": "code",
      "source": "x = summoners[\"winrate\"]\ny = summoners[\"lp\"]\n\nplt.scatter(x,y)\nplt.show()\n",
      "metadata": {
        "trusted": true
      },
      "execution_count": 55,
      "outputs": [
        {
          "output_type": "display_data",
          "data": {
            "text/plain": "<pyolite.display.Image at 0x515cb98>",
            "image/png": "[encoded data removed]"
          },
          "metadata": {}
        }
      ]
    },
    {
      "cell_type": "code",
      "source": "challenger = summoners[summoners[\"rank\"] == \"Challenger\"]\nx = challenger[\"winrate\"]\ny = challenger[\"lp\"]\n\nplt.scatter(x,y)\nplt.show()",
      "metadata": {
        "trusted": true
      },
      "execution_count": 56,
      "outputs": [
        {
          "output_type": "display_data",
          "data": {
            "text/plain": "<pyolite.display.Image at 0x4e64dd0>",
            "image/png": "[encoded data removed]"
          },
          "metadata": {}
        }
      ]
    },
    {
      "cell_type": "markdown",
      "source": "Iz grafa se vidi, kako ima velika večina igralcev winrate med 50% - 55% in manj kot 500 točk. Prav tako je očitno, da ima zelo malo igralcev visok winrate, in tisti, ki ga imajo, so odigrali manj iger, obratno, da si med najbolšimi moraš imeti odigranih veliko iger in visok winrate.",
      "metadata": {}
    },
    {
      "cell_type": "markdown",
      "source": "V duhu grafa izračunajmo korelacijo med odigranimi igrami in winrate-om.",
      "metadata": {}
    },
    {
      "cell_type": "code",
      "source": "summoners[\"games\"].corr(summoners[\"winrate\"])",
      "metadata": {
        "trusted": true
      },
      "execution_count": 57,
      "outputs": [
        {
          "execution_count": 57,
          "output_type": "execute_result",
          "data": {
            "text/plain": "-0.4762417319386062"
          },
          "metadata": {}
        }
      ]
    },
    {
      "cell_type": "markdown",
      "source": "V tem primeru je korelacijski koeficient absolutno velik in negativen. To nas ne preseneča zares, saj je z malo igrami veliko lažje imeti visok winrate.\nPo drugi strani to pomeni, da tisti, ki potrebujejo veliko iger, da pridejo v visok rank, so slabši od tistih, ki tja pridejo z malo igrami.",
      "metadata": {}
    },
    {
      "cell_type": "code",
      "source": "challenger[\"games\"].corr(challenger[\"winrate\"])",
      "metadata": {
        "trusted": true
      },
      "execution_count": 58,
      "outputs": [
        {
          "execution_count": 58,
          "output_type": "execute_result",
          "data": {
            "text/plain": "-0.639042826818203"
          },
          "metadata": {}
        }
      ]
    },
    {
      "cell_type": "code",
      "source": "gmaster[\"games\"].corr(gmaster[\"winrate\"])",
      "metadata": {
        "trusted": true
      },
      "execution_count": 59,
      "outputs": [
        {
          "execution_count": 59,
          "output_type": "execute_result",
          "data": {
            "text/plain": "-0.5614848160508412"
          },
          "metadata": {}
        }
      ]
    },
    {
      "cell_type": "code",
      "source": "master[\"games\"].corr(master[\"winrate\"])",
      "metadata": {
        "trusted": true
      },
      "execution_count": 60,
      "outputs": [
        {
          "execution_count": 60,
          "output_type": "execute_result",
          "data": {
            "text/plain": "-0.45466788915786643"
          },
          "metadata": {}
        }
      ]
    },
    {
      "cell_type": "markdown",
      "source": "Višje ko gremo, bolj je ta povezava očitna.",
      "metadata": {}
    },
    {
      "cell_type": "markdown",
      "source": "FlexQueue\n==============================",
      "metadata": {}
    },
    {
      "cell_type": "markdown",
      "source": "To je druga vrsta rankiranja igralcev. Sistem je popolnoma enak, vendar v realnosti igralci to vrsto večino igrajo bolj za zabavo. Poglejmo, ali je temu res tako.",
      "metadata": {}
    },
    {
      "cell_type": "code",
      "source": "flex1 = summoners[summoners[\"winsFlex\"] >= 10]\nflex1[\"gamesFlex\"] = (flex[\"winsFlex\"] * (100/flex[\"winrateFlex\"].astype(\"float\"))).round().astype(\"int32\")\nflex1",
      "metadata": {
        "trusted": true
      },
      "execution_count": 65,
      "outputs": [
        {
          "name": "stderr",
          "text": "<ipython-input-65-820856701b53>:2: SettingWithCopyWarning: \nA value is trying to be set on a copy of a slice from a DataFrame.\nTry using .loc[row_indexer,col_indexer] = value instead\n\nSee the caveats in the documentation: https://pandas.pydata.org/pandas-docs/stable/user_guide/indexing.html#returning-a-view-versus-a-copy\n  flex1[\"gamesFlex\"] = (flex[\"winsFlex\"] * (100/flex[\"winrateFlex\"].astype(\"float\"))).round().astype(\"int32\")\n",
          "output_type": "stream"
        },
        {
          "execution_count": 65,
          "output_type": "execute_result",
          "data": {
            "text/plain": "              summoner        rank    lp  wins  winrate    rankFlex  winsFlex  \\\n0            PolskiKoz  Challenger  1769   352     58.1      Master      95.0   \n1        WindbreakerXD  Challenger  1688   290     58.4     Diamond     120.0   \n4            berryrasp  Challenger  1498   491     53.8  Challenger     310.0   \n5         tall and hot  Challenger  1387   137     59.6     Diamond      26.0   \n7          naizduP 997  Challenger  1328   311     54.6     Diamond      28.0   \n...                ...         ...   ...   ...      ...         ...       ...   \n2995  Dobbry las tf tf      Master     1   205     55.3     Diamond     144.0   \n2996            Macjei      Master     1   204     53.3      Master     135.0   \n2997       Cortana Bot      Master     1   204     57.3    Platinum      31.0   \n2998         Unicornik      Master     1   203     52.1     Diamond     105.0   \n2999     MocskosAMedve      Master     1   203     58.2    Platinum      43.0   \n\n      winrateFlex  games  gamesFlex  \n0            63.3    606      150.0  \n1            67.4    497      178.0  \n4            62.6    913      495.0  \n5            56.5    230        NaN  \n7            75.7    570        NaN  \n...           ...    ...        ...  \n2995         52.4    371      275.0  \n2996         53.8    383      251.0  \n2997         53.4    356        NaN  \n2998         50.7    390      207.0  \n2999         56.6    349        NaN  \n\n[2436 rows x 10 columns]",
            "text/html": "<div>\n<style scoped>\n    .dataframe tbody tr th:only-of-type {\n        vertical-align: middle;\n    }\n\n    .dataframe tbody tr th {\n        vertical-align: top;\n    }\n\n    .dataframe thead th {\n        text-align: right;\n    }\n</style>\n<table border=\"1\" class=\"dataframe\">\n  <thead>\n    <tr style=\"text-align: right;\">\n      <th></th>\n      <th>summoner</th>\n      <th>rank</th>\n      <th>lp</th>\n      <th>wins</th>\n      <th>winrate</th>\n      <th>rankFlex</th>\n      <th>winsFlex</th>\n      <th>winrateFlex</th>\n      <th>games</th>\n      <th>gamesFlex</th>\n    </tr>\n  </thead>\n  <tbody>\n    <tr>\n      <th>0</th>\n      <td>PolskiKoz</td>\n      <td>Challenger</td>\n      <td>1769</td>\n      <td>352</td>\n      <td>58.1</td>\n      <td>Master</td>\n      <td>95.0</td>\n      <td>63.3</td>\n      <td>606</td>\n      <td>150.0</td>\n    </tr>\n    <tr>\n      <th>1</th>\n      <td>WindbreakerXD</td>\n      <td>Challenger</td>\n      <td>1688</td>\n      <td>290</td>\n      <td>58.4</td>\n      <td>Diamond</td>\n      <td>120.0</td>\n      <td>67.4</td>\n      <td>497</td>\n      <td>178.0</td>\n    </tr>\n    <tr>\n      <th>4</th>\n      <td>berryrasp</td>\n      <td>Challenger</td>\n      <td>1498</td>\n      <td>491</td>\n      <td>53.8</td>\n      <td>Challenger</td>\n      <td>310.0</td>\n      <td>62.6</td>\n      <td>913</td>\n      <td>495.0</td>\n    </tr>\n    <tr>\n      <th>5</th>\n      <td>tall and hot</td>\n      <td>Challenger</td>\n      <td>1387</td>\n      <td>137</td>\n      <td>59.6</td>\n      <td>Diamond</td>\n      <td>26.0</td>\n      <td>56.5</td>\n      <td>230</td>\n      <td>NaN</td>\n    </tr>\n    <tr>\n      <th>7</th>\n      <td>naizduP 997</td>\n      <td>Challenger</td>\n      <td>1328</td>\n      <td>311</td>\n      <td>54.6</td>\n      <td>Diamond</td>\n      <td>28.0</td>\n      <td>75.7</td>\n      <td>570</td>\n      <td>NaN</td>\n    </tr>\n    <tr>\n      <th>...</th>\n      <td>...</td>\n      <td>...</td>\n      <td>...</td>\n      <td>...</td>\n      <td>...</td>\n      <td>...</td>\n      <td>...</td>\n      <td>...</td>\n      <td>...</td>\n      <td>...</td>\n    </tr>\n    <tr>\n      <th>2995</th>\n      <td>Dobbry las tf tf</td>\n      <td>Master</td>\n      <td>1</td>\n      <td>205</td>\n      <td>55.3</td>\n      <td>Diamond</td>\n      <td>144.0</td>\n      <td>52.4</td>\n      <td>371</td>\n      <td>275.0</td>\n    </tr>\n    <tr>\n      <th>2996</th>\n      <td>Macjei</td>\n      <td>Master</td>\n      <td>1</td>\n      <td>204</td>\n      <td>53.3</td>\n      <td>Master</td>\n      <td>135.0</td>\n      <td>53.8</td>\n      <td>383</td>\n      <td>251.0</td>\n    </tr>\n    <tr>\n      <th>2997</th>\n      <td>Cortana Bot</td>\n      <td>Master</td>\n      <td>1</td>\n      <td>204</td>\n      <td>57.3</td>\n      <td>Platinum</td>\n      <td>31.0</td>\n      <td>53.4</td>\n      <td>356</td>\n      <td>NaN</td>\n    </tr>\n    <tr>\n      <th>2998</th>\n      <td>Unicornik</td>\n      <td>Master</td>\n      <td>1</td>\n      <td>203</td>\n      <td>52.1</td>\n      <td>Diamond</td>\n      <td>105.0</td>\n      <td>50.7</td>\n      <td>390</td>\n      <td>207.0</td>\n    </tr>\n    <tr>\n      <th>2999</th>\n      <td>MocskosAMedve</td>\n      <td>Master</td>\n      <td>1</td>\n      <td>203</td>\n      <td>58.2</td>\n      <td>Platinum</td>\n      <td>43.0</td>\n      <td>56.6</td>\n      <td>349</td>\n      <td>NaN</td>\n    </tr>\n  </tbody>\n</table>\n<p>2436 rows × 10 columns</p>\n</div>"
          },
          "metadata": {}
        }
      ]
    },
    {
      "cell_type": "markdown",
      "source": "Da sploh dobiš Flex rank, moraš odigrati vsaj 10 iger v tem queue-ju. Kot vidimo dobra šestina igralcev ni odigrala niti 10 iger Flex queue-ja, medtem ko so vsi igralci v povprečju odigrali okrog 280 iger Solo queue-ja. Že to nam da slutiti, da summonerjem resnično ni do Flexa. Če pogledamo recimo nek signifikanten delež iger v primerjavi s Solo queue-jem, dobimo naslednje:",
      "metadata": {}
    },
    {
      "cell_type": "code",
      "source": "flex = summoners[summoners[\"winsFlex\"] >= 50]\nflex[\"gamesFlex\"] = (flex[\"winsFlex\"] * (100/flex[\"winrateFlex\"].astype(\"float\"))).round().astype(\"int32\")\nflex",
      "metadata": {
        "trusted": true
      },
      "execution_count": 62,
      "outputs": [
        {
          "name": "stderr",
          "text": "<ipython-input-62-261b00b6b1af>:2: SettingWithCopyWarning: \nA value is trying to be set on a copy of a slice from a DataFrame.\nTry using .loc[row_indexer,col_indexer] = value instead\n\nSee the caveats in the documentation: https://pandas.pydata.org/pandas-docs/stable/user_guide/indexing.html#returning-a-view-versus-a-copy\n  flex[\"gamesFlex\"] = (flex[\"winsFlex\"] * (100/flex[\"winrateFlex\"].astype(\"float\"))).round().astype(\"int32\")\n",
          "output_type": "stream"
        },
        {
          "execution_count": 62,
          "output_type": "execute_result",
          "data": {
            "text/plain": "              summoner        rank    lp  wins  winrate    rankFlex  winsFlex  \\\n0            PolskiKoz  Challenger  1769   352     58.1      Master      95.0   \n1        WindbreakerXD  Challenger  1688   290     58.4     Diamond     120.0   \n4            berryrasp  Challenger  1498   491     53.8  Challenger     310.0   \n9           I am Sobek  Challenger  1304   409     53.7  Challenger     288.0   \n11        Coatpustmain  Challenger  1283   244     56.4    Platinum      61.0   \n...                ...         ...   ...   ...      ...         ...       ...   \n2990       Tom Kranich      Master     1   209     51.1    Platinum      74.0   \n2991           ZACrazy      Master     1   208     55.0      Master     222.0   \n2995  Dobbry las tf tf      Master     1   205     55.3     Diamond     144.0   \n2996            Macjei      Master     1   204     53.3      Master     135.0   \n2998         Unicornik      Master     1   203     52.1     Diamond     105.0   \n\n      winrateFlex  games  gamesFlex  \n0            63.3    606        150  \n1            67.4    497        178  \n4            62.6    913        495  \n9            63.6    762        453  \n11           60.4    433        101  \n...           ...    ...        ...  \n2990         56.5    409        131  \n2991         56.6    378        392  \n2995         52.4    371        275  \n2996         53.8    383        251  \n2998         50.7    390        207  \n\n[1532 rows x 10 columns]",
            "text/html": "<div>\n<style scoped>\n    .dataframe tbody tr th:only-of-type {\n        vertical-align: middle;\n    }\n\n    .dataframe tbody tr th {\n        vertical-align: top;\n    }\n\n    .dataframe thead th {\n        text-align: right;\n    }\n</style>\n<table border=\"1\" class=\"dataframe\">\n  <thead>\n    <tr style=\"text-align: right;\">\n      <th></th>\n      <th>summoner</th>\n      <th>rank</th>\n      <th>lp</th>\n      <th>wins</th>\n      <th>winrate</th>\n      <th>rankFlex</th>\n      <th>winsFlex</th>\n      <th>winrateFlex</th>\n      <th>games</th>\n      <th>gamesFlex</th>\n    </tr>\n  </thead>\n  <tbody>\n    <tr>\n      <th>0</th>\n      <td>PolskiKoz</td>\n      <td>Challenger</td>\n      <td>1769</td>\n      <td>352</td>\n      <td>58.1</td>\n      <td>Master</td>\n      <td>95.0</td>\n      <td>63.3</td>\n      <td>606</td>\n      <td>150</td>\n    </tr>\n    <tr>\n      <th>1</th>\n      <td>WindbreakerXD</td>\n      <td>Challenger</td>\n      <td>1688</td>\n      <td>290</td>\n      <td>58.4</td>\n      <td>Diamond</td>\n      <td>120.0</td>\n      <td>67.4</td>\n      <td>497</td>\n      <td>178</td>\n    </tr>\n    <tr>\n      <th>4</th>\n      <td>berryrasp</td>\n      <td>Challenger</td>\n      <td>1498</td>\n      <td>491</td>\n      <td>53.8</td>\n      <td>Challenger</td>\n      <td>310.0</td>\n      <td>62.6</td>\n      <td>913</td>\n      <td>495</td>\n    </tr>\n    <tr>\n      <th>9</th>\n      <td>I am Sobek</td>\n      <td>Challenger</td>\n      <td>1304</td>\n      <td>409</td>\n      <td>53.7</td>\n      <td>Challenger</td>\n      <td>288.0</td>\n      <td>63.6</td>\n      <td>762</td>\n      <td>453</td>\n    </tr>\n    <tr>\n      <th>11</th>\n      <td>Coatpustmain</td>\n      <td>Challenger</td>\n      <td>1283</td>\n      <td>244</td>\n      <td>56.4</td>\n      <td>Platinum</td>\n      <td>61.0</td>\n      <td>60.4</td>\n      <td>433</td>\n      <td>101</td>\n    </tr>\n    <tr>\n      <th>...</th>\n      <td>...</td>\n      <td>...</td>\n      <td>...</td>\n      <td>...</td>\n      <td>...</td>\n      <td>...</td>\n      <td>...</td>\n      <td>...</td>\n      <td>...</td>\n      <td>...</td>\n    </tr>\n    <tr>\n      <th>2990</th>\n      <td>Tom Kranich</td>\n      <td>Master</td>\n      <td>1</td>\n      <td>209</td>\n      <td>51.1</td>\n      <td>Platinum</td>\n      <td>74.0</td>\n      <td>56.5</td>\n      <td>409</td>\n      <td>131</td>\n    </tr>\n    <tr>\n      <th>2991</th>\n      <td>ZACrazy</td>\n      <td>Master</td>\n      <td>1</td>\n      <td>208</td>\n      <td>55.0</td>\n      <td>Master</td>\n      <td>222.0</td>\n      <td>56.6</td>\n      <td>378</td>\n      <td>392</td>\n    </tr>\n    <tr>\n      <th>2995</th>\n      <td>Dobbry las tf tf</td>\n      <td>Master</td>\n      <td>1</td>\n      <td>205</td>\n      <td>55.3</td>\n      <td>Diamond</td>\n      <td>144.0</td>\n      <td>52.4</td>\n      <td>371</td>\n      <td>275</td>\n    </tr>\n    <tr>\n      <th>2996</th>\n      <td>Macjei</td>\n      <td>Master</td>\n      <td>1</td>\n      <td>204</td>\n      <td>53.3</td>\n      <td>Master</td>\n      <td>135.0</td>\n      <td>53.8</td>\n      <td>383</td>\n      <td>251</td>\n    </tr>\n    <tr>\n      <th>2998</th>\n      <td>Unicornik</td>\n      <td>Master</td>\n      <td>1</td>\n      <td>203</td>\n      <td>52.1</td>\n      <td>Diamond</td>\n      <td>105.0</td>\n      <td>50.7</td>\n      <td>390</td>\n      <td>207</td>\n    </tr>\n  </tbody>\n</table>\n<p>1532 rows × 10 columns</p>\n</div>"
          },
          "metadata": {}
        }
      ]
    },
    {
      "cell_type": "markdown",
      "source": "Vidimo, da je približno le polovico igralcev odigralo 50 iger Flexa.",
      "metadata": {}
    },
    {
      "cell_type": "code",
      "source": "sumGames = 0\nsumFlex = 0\n#se da lepse\nsummonersWithMoreSolo = 0\nsummonersWithMoreFlex = 0\nfor summoner in flex.values:\n    games = summoner[8]\n    gamesFlex = summoner[9] \n    sumGames += games\n    sumFlex += gamesFlex\n    \n    if games > gamesFlex:\n        summonersWithMoreSolo += 1\n    else:\n        summonersWithMoreFlex += 1\n    #i += summoner[\"gamesFlex\"]\nprint(sumGames, sumFlex)\nprint(summonersWithMoreSolo, summonersWithMoreFlex)\n#lahko bi s statistiko dobil verjetnost da bo nek summoner imel vec solo gamov",
      "metadata": {
        "trusted": true
      },
      "execution_count": 66,
      "outputs": [
        {
          "name": "stdout",
          "text": "888814 383278\n1336 196\n",
          "output_type": "stream"
        }
      ]
    },
    {
      "cell_type": "markdown",
      "source": "V splošnem so res igralci bolj odločeni igrati Solo kot Flex. Če opazujemo le igralce, ki so odigrali vsaj nekaj (50) iger flexa, vidimo, da je summonerjev z več Solo igrami veliko kot več kot obratno.",
      "metadata": {}
    },
    {
      "cell_type": "code",
      "source": "flex[\"winrate\"].corr(flex[\"winrateFlex\"])\n",
      "metadata": {
        "trusted": true
      },
      "execution_count": 67,
      "outputs": [
        {
          "execution_count": 67,
          "output_type": "execute_result",
          "data": {
            "text/plain": "0.17924086583399548"
          },
          "metadata": {}
        }
      ]
    },
    {
      "cell_type": "markdown",
      "source": "Kljub temu, imamo pa od teh približno 10% ljudi, ki so odločeni igrati Flex. Ti ga igrajo veliko več kot Solo.\nŠe vedno pa je skoraj polovica igralcev odigralo le malo več kot zadostno število iger za rank v Flex-u.",
      "metadata": {}
    },
    {
      "cell_type": "markdown",
      "source": "Zaključek\n=====================\n",
      "metadata": {}
    },
    {
      "cell_type": "markdown",
      "source": "Po pričakovanjih hipoteza o večji povezavi med točkami in winrate-om kot med točkami in številom iger v Solo queue-ju drži. V tem primeru statistika ne laže, v smislu, da zares predstavlja in modelira, kako zgleda rankiranje igralcev v LoL-u.",
      "metadata": {}
    },
    {
      "cell_type": "code",
      "source": "Prav tako hiter vpogled v Flex queue pokaže, da je za igralce te video igre veliko bolj pomembna razvrstitev v Solo queue-ju. Flex se namreč igra večino ",
      "metadata": {},
      "execution_count": null,
      "outputs": []
    }
  ]
}